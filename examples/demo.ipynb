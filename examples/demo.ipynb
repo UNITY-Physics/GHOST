{
 "cells": [
  {
   "cell_type": "code",
   "execution_count": 1,
   "metadata": {},
   "outputs": [],
   "source": [
    "import os\n",
    "import json\n",
    "import shutil\n",
    "from ghost.misc import ghost_path\n",
    "from ghost.bids import bids2stats, plot_mimics, plot_signal_ROI\n",
    "import bids\n",
    "import urllib.request\n",
    "import zipfile\n",
    "import matplotlib.pyplot as plt\n",
    "import nibabel as nib\n",
    "import numpy as np"
   ]
  },
  {
   "cell_type": "code",
   "execution_count": 2,
   "metadata": {},
   "outputs": [],
   "source": [
    "def download_zip(url, dir, zip_file_name):\n",
    "    urllib.request.urlretrieve(url, os.path.join(dir, zip_file_name))\n",
    "    print(f\"Downloaded {zip_file_name}\")\n",
    "\n",
    "    with zipfile.ZipFile(os.path.join(dir, zip_file_name), 'r') as zip_ref:\n",
    "        zip_ref.extractall(dir)\n",
    "    os.remove(os.path.join(dir, zip_file_name))\n",
    "    \n",
    "    print(\"Extracting data\")\n",
    "    if os.path.exists(os.path.join(dir, '__MACOSX')):\n",
    "        shutil.rmtree(os.path.join(dir, '__MACOSX'))\n",
    "        print(\"Removed __MACOSX folder\")"
   ]
  },
  {
   "attachments": {},
   "cell_type": "markdown",
   "metadata": {},
   "source": [
    "# Demo notebook\n",
    "This short demo will go through some basic usage of the `ghost` python module. The key features of `ghost` is to segment and process data from the UNITY phantom. There are two ways of doing this\n",
    "\n",
    "1. Commandline interface: Recommended for just a few images or for development\n",
    "2. BIDS structure. This is when you have a larger QA study you want to investigate. \n",
    "\n",
    "Both approaches will be demonstrated in this notebook.\n",
    "\n",
    "## 1. Command line interface demo"
   ]
  },
  {
   "cell_type": "code",
   "execution_count": 3,
   "metadata": {},
   "outputs": [
    {
     "name": "stdout",
     "output_type": "stream",
     "text": [
      "Downloaded Swoop_T2_nifti.zip\n",
      "Extracting data\n",
      "Removed __MACOSX folder\n",
      "We have the following demo files in /Users/petter/Code/GHOST/ghost/../demo/cli/Swoop_T2_nifti:\n"
     ]
    },
    {
     "data": {
      "text/plain": [
       "['.DS_Store',\n",
       " 'T2w_axi_maskT2.nii.gz',\n",
       " 'T2w_sag.nii.gz',\n",
       " 'T2w_cor.nii.gz',\n",
       " 'T2w_axi_maskT1.nii.gz',\n",
       " 'T2w_axi_maskADC.nii.gz',\n",
       " 'T2w_axi.nii.gz']"
      ]
     },
     "execution_count": 3,
     "metadata": {},
     "output_type": "execute_result"
    }
   ],
   "source": [
    "# Grab some example data\n",
    "demo_cli_dir=f'{ghost_path()}/demo/cli'\n",
    "os.makedirs(demo_cli_dir, exist_ok=True)\n",
    "download_zip('https://www.dropbox.com/s/qmvbfzu113e1yyw/Swoop_T2_nifti.zip?dl=1', demo_cli_dir, 'Swoop_T2_nifti.zip')\n",
    "\n",
    "demo_cli_dir += '/Swoop_T2_nifti'\n",
    "print(f\"We have the following demo files in {demo_cli_dir}:\")\n",
    "os.listdir(demo_cli_dir)"
   ]
  },
  {
   "attachments": {},
   "cell_type": "markdown",
   "metadata": {},
   "source": [
    "The command we are interested in here is `ghost warp_rois`, let's see how we use it"
   ]
  },
  {
   "cell_type": "code",
   "execution_count": null,
   "metadata": {},
   "outputs": [],
   "source": [
    "!ghost warp_rois -h"
   ]
  },
  {
   "cell_type": "code",
   "execution_count": null,
   "metadata": {},
   "outputs": [],
   "source": [
    "f = demo_cli_dir + '/T2w_axi.nii.gz'\n",
    "!ghost warp_rois {f} -w T2 -s T1 -s T2 -s ADC"
   ]
  },
  {
   "cell_type": "code",
   "execution_count": null,
   "metadata": {},
   "outputs": [],
   "source": [
    "ghost warp_rois /Users/petter/Code/GHOST/demo/cli/Swoop_T2_nifti/T2w_axi.nii.gz -w T2 -s T1 -s T2 -s ADC"
   ]
  },
  {
   "attachments": {},
   "cell_type": "markdown",
   "metadata": {},
   "source": [
    "Now we have three segmentations that we can use for our analysis. Let's look at this with matplotlib."
   ]
  },
  {
   "cell_type": "code",
   "execution_count": null,
   "metadata": {},
   "outputs": [],
   "source": [
    "fbase = demo_cli_dir + '/T2w_axi'\n",
    "img = nib.load(fbase+'.nii.gz').get_fdata()\n",
    "masks = ['T1', 'T2', 'ADC']\n",
    "T1mask = nib.load(fbase+'_maskT1.nii.gz').get_fdata()\n",
    "T2mask = nib.load(fbase+'_maskT2.nii.gz').get_fdata()\n",
    "ADCmask = nib.load(fbase+'_maskADC.nii.gz').get_fdata()\n",
    "\n",
    "# This is to make the plotting look nicer\n",
    "T1mask[T1mask == 0 ] = np.nan\n",
    "T2mask[T2mask == 0 ] = np.nan\n",
    "ADCmask[ADCmask == 0 ] = np.nan\n",
    "\n",
    "# Plot the base images\n",
    "plt.style.use('dark_background')\n",
    "fig, axs = plt.subplots(1, 3, figsize=(12, 5))\n",
    "axs[0].imshow(img[:,:,14], cmap='gray'); axs[0].set_title('T2 mimics'); axs[0].axis('off')\n",
    "axs[0].imshow(T2mask[:,:,14], cmap='jet', alpha=0.35)\n",
    "\n",
    "axs[1].imshow(img[:,:,18], cmap='gray'); axs[1].set_title('ADC mimics'); axs[1].axis('off')\n",
    "axs[1].imshow(ADCmask[:,:,18], cmap='jet', alpha=0.35)\n",
    "\n",
    "axs[2].imshow(img[:,:,25], cmap='gray'); axs[2].set_title('T1 mimics'); axs[2].axis('off')\n",
    "axs[2].imshow(T1mask[:,:,25], cmap='jet', alpha=0.35)\n",
    "\n",
    "plt.tight_layout()"
   ]
  },
  {
   "cell_type": "code",
   "execution_count": null,
   "metadata": {},
   "outputs": [],
   "source": [
    "# Extract ROI values in a simple way\n",
    "T2_roi_vals = []\n",
    "n_mimics = int(np.max(T2mask[T2mask>0]))\n",
    "for i in range(1, n_mimics+1): # ROIs start with 1\n",
    "    T2_roi_vals.append(np.mean(img[T2mask == i]))\n",
    "\n",
    "plt.style.use('default')\n",
    "plt.figure()\n",
    "plt.plot(T2_roi_vals, 'o-')\n",
    "plt.xlabel('Mimic number')\n",
    "plt.ylabel('Mean ROI intensity')\n",
    "plt.title('T2 mimics')\n",
    "plt.grid()\n",
    "plt.show()"
   ]
  },
  {
   "attachments": {},
   "cell_type": "markdown",
   "metadata": {},
   "source": [
    "## 2. BIDS Demo\n",
    "### Setup directories\n",
    "We set up the demo project inside the GHOST directory as a BIDS structure to keep it neat and tidy"
   ]
  },
  {
   "cell_type": "code",
   "execution_count": null,
   "metadata": {},
   "outputs": [],
   "source": [
    "demo_dir=f'{ghost_path()}/demo/bids'\n",
    "os.makedirs(demo_dir, exist_ok=True)\n",
    "os.environ['PROJECT_DIR'] = demo_dir    # Used later in the BIDS analysis\n",
    "\n",
    "# Create BIDS directory structure\n",
    "folders=['code', 'sourcedata', 'rawdata', 'derivatives']\n",
    "for folder in folders:\n",
    "    os.makedirs(os.path.join(demo_dir,folder), exist_ok=True)\n",
    "\n",
    "# put needful code in place (turns messy DICOM directory into sparkling BIDS structure)\n",
    "shutil.copytree(f'{ghost_path()}/dcm2bids', os.path.join(demo_dir,'code/dcm2bids'), dirs_exist_ok=True)\n",
    "\n",
    "download_zip('https://www.dropbox.com/s/a7bex5bhfih8s0t/LUND_DailyQA_demo.zip?dl=1', \n",
    "             f'{demo_dir}/sourcedata', 'Lund_DailyQA_Example.zip')"
   ]
  },
  {
   "attachments": {},
   "cell_type": "markdown",
   "metadata": {},
   "source": [
    "Now we have defined one non-BIDS dataset (`sourcedata`), and two BIDS datasets: `Rawdata` and `Derivatives`. As for any BIDS dataset, a `dataset_description.json` file must be found at the top level. Therefore, we must create these two before we can BIDS-ify our source data."
   ]
  },
  {
   "cell_type": "code",
   "execution_count": null,
   "metadata": {},
   "outputs": [],
   "source": [
    "# Create the dataset_description.json file for the rawdata folder\n",
    "with open(os.path.join(demo_dir,'rawdata/dataset_description.json'), 'w') as f:\n",
    "    # Here is what the file should resemble\n",
    "    json.dump(\n",
    "        {\n",
    "            \"Name\": \"demo\",\n",
    "            \"BIDSVersion\": \"1.8\",\n",
    "            \"DatasetType\": \"raw\",\n",
    "            \"License\": \"\",\n",
    "            \"Authors\": [\n",
    "                \"Petter Clemensson\",\n",
    "                \"Emil Ljungberg\",\n",
    "                ],\n",
    "            \"Funding\": \"The Bill & Melinda Gates Foundation\",\n",
    "        }\n",
    "        , f, indent=4)"
   ]
  },
  {
   "attachments": {},
   "cell_type": "markdown",
   "metadata": {},
   "source": [
    "Only `Name` and `BIDSVersion` are required fields, while the others are recommended/optional. More info available on the [BIDS website](https://bids-specification.readthedocs.io/en/stable/03-modality-agnostic-files.html#dataset_descriptionjson)."
   ]
  },
  {
   "cell_type": "code",
   "execution_count": null,
   "metadata": {},
   "outputs": [],
   "source": [
    "# Create the dataset_description.json file for the derivatives folder\n",
    "with open(os.path.join(demo_dir,'derivatives/dataset_description.json'), 'w') as f:\n",
    "    # Here is what the file should resemble\n",
    "    json.dump(\n",
    "        {\n",
    "            \"Name\": \"demo\",\n",
    "            \"BIDSVersion\": \"1.8\",\n",
    "            \"DatasetType\": \"derivative\",\n",
    "            \"License\": \"\",\n",
    "            \"Authors\": [\n",
    "                \"Petter Clemensson\",\n",
    "                \"Emil Ljungberg\",\n",
    "                ],\n",
    "            \"Funding\": \"The Bill & Melinda Gates Foundation\",\n",
    "            \"GeneratedBy\": [\n",
    "                {\n",
    "                    \"Name\": \"masks\",\n",
    "                    \"Description\": \"Segmentations for all the images in the dataset\"\n",
    "                },\n",
    "                {\n",
    "                    \"Name\": \"qa\",\n",
    "                    \"Description\": \"Quality assurance for all the image in the dataset\"\n",
    "                },\n",
    "                {\n",
    "                    \"Name\": \"stats\",\n",
    "                    \"Description\": \"Statistics for all the image in the dataset\",\n",
    "                },\n",
    "            ],\n",
    "            \n",
    "        }\n",
    "        , f, indent=4)"
   ]
  },
  {
   "attachments": {},
   "cell_type": "markdown",
   "metadata": {},
   "source": [
    "Before we intiate the BIDS-ification, we may want to define some additional DICOM tags (metadata) that we want to add to the JSON sidecar, as not everything is included when using `dcm2bids`. For this purpose, we use a function available through the swoop_QMRI package, `swoop_update_sidecar`. It requires a `dicom_update_tags.csv` file, which we can add to our `code/` directory by running the following cell."
   ]
  },
  {
   "cell_type": "code",
   "execution_count": null,
   "metadata": {},
   "outputs": [],
   "source": [
    "with open(os.path.join(demo_dir,'code/dicom_update_tags.csv'), 'w') as f:\n",
    "    # Here is what the file should resemble\n",
    "    lines = ['DicomTag, dtype, regex, name\\n',\n",
    "             '0x03511000, float, None, tmp_min\\n',\n",
    "             '0x03511001, float, None, tmp_max\\n',\n",
    "             '0x03511002, float, None, uint_x_max\\n',\n",
    "             '0x00104000, int, \\d{2}, Temperature\\n',\n",
    "             '0x52009229/0x00189006/0x00189098, float, None, CenterFrequency']\n",
    "    f.writelines(lines)"
   ]
  },
  {
   "attachments": {},
   "cell_type": "markdown",
   "metadata": {},
   "source": [
    "### Sourcedata &rarr; Rawdata (BIDS!)\n",
    "Usually this is done by excecuting `bash run_dcm2bids.sh`. When working on your own project, set `PROJECT_DIR` to your project directory before the execution.\n",
    "\n",
    "The next cell mirrors `run_dcm2bids.sh` so there is no need to leave this demo to edit the file. The only difference is that `PROJECT_DIR` is automatically assigned the demo project directory."
   ]
  },
  {
   "cell_type": "code",
   "execution_count": null,
   "metadata": {
    "vscode": {
     "languageId": "shellscript"
    }
   },
   "outputs": [],
   "source": [
    "%%bash\n",
    "\n",
    "PARTICIPANT_ID=\"LUND\"\n",
    "\n",
    "DICOM_DIR=\"$PROJECT_DIR/sourcedata/*\"\n",
    "CONFIG_FILE=\"$PROJECT_DIR/code/dcm2bids/config.json\"\n",
    "OUTPUT_DIR=\"$PROJECT_DIR/rawdata\"\n",
    "\n",
    "i=1\n",
    "for DIR in $DICOM_DIR\n",
    "do\n",
    "    # extract the session ID from the dicom directory name\n",
    "    if [[ $DIR =~ [0-9]{8} ]]; then\n",
    "        SESSION_ID=$(echo $DIR | grep -oE \"[0-9]{8}\")\n",
    "    # session ID is set to the session number if the directory name does not contain a date\n",
    "    else\n",
    "        SESSION_ID=$i\n",
    "        i=$((i+1))\n",
    "    fi\n",
    "\n",
    "  # run the function on the directory and session ID\n",
    "  dcm2bids -d $DIR -p $PARTICIPANT_ID -s $SESSION_ID -c $CONFIG_FILE -o $OUTPUT_DIR\n",
    "  \n",
    "  # Transfer metadata from DICOM tags in dicom_update_tags.csv to sidecar files\n",
    "  ghost update_sidecar $DIR $OUTPUT_DIR/sub-$PARTICIPANT_ID/ses-$SESSION_ID -m $PROJECT_DIR/code/dicom_update_tags.csv\n",
    "done"
   ]
  },
  {
   "attachments": {},
   "cell_type": "markdown",
   "metadata": {},
   "source": [
    "### Final comment on the BIDS-ification\n",
    "Now the `rawdata/` folder contains a BIDS compatible directory (`sub-LUND/`) and a temporary folder (`tmp_dcm2bids`). In the temporary folder we find files that were converted to NIFTI, but couldn't be BIDSified. This can happen for a few reasons. \n",
    "1. No match was find with the description criteria in the `config.json` file. (Here, we're not interested in the localizer image so we couldn't be bothered to include an identifier for it). If you want to practice, go and edit the `config.json` file and re-run the previous cell until the localizer image is successfully BIDSified.\n",
    "2. Multiple matches were found for a single description criterion. If this is the case, you can inspect the sidecar file and look for the \"SeriesDescription\" field for example. It is often a good unique identifier.\n",
    "\n",
    "For a more comprehensive tutorial, check [this](https://unfmontreal.github.io/Dcm2Bids/docs/tutorial/first-steps/) out."
   ]
  },
  {
   "attachments": {},
   "cell_type": "markdown",
   "metadata": {},
   "source": [
    "### Swift analysis\n",
    "Here follows some basic analysis examples that aim to get you started. Manipulate as you wish to suit your own needs."
   ]
  },
  {
   "cell_type": "code",
   "execution_count": null,
   "metadata": {},
   "outputs": [],
   "source": [
    "# Get project layout and update \n",
    "layout = bids.BIDSLayout(root=demo_dir+'/rawdata', derivatives=demo_dir+'/derivatives')\n",
    "\n",
    "# Select all fast axial T2 images\n",
    "bids_files = layout.get(scope='raw', extension='.nii.gz', suffix='T2w', reconstruction='axi', acquisition='fast')\n",
    "\n",
    "# Get the stats for the T2 images and save to Excel\n",
    "stats_T2 = bids2stats(bids_files, 'T2', layout, toExcel=True, verbose=True)\n",
    "print(f\"Stats for some T2 data: \\n {stats_T2}\")"
   ]
  },
  {
   "cell_type": "code",
   "execution_count": null,
   "metadata": {},
   "outputs": [],
   "source": [
    "# Update layout\n",
    "layout = bids.BIDSLayout(root=demo_dir+'/rawdata', derivatives=demo_dir+'/derivatives')\n",
    "\n",
    "# Retreive all the b0 DWI images\n",
    "bids_files = layout.get(scope='raw', extension='.nii.gz', suffix='dwi', acquisition='b0', session='20230329')\n",
    "\n",
    "# Plot the QA images of the bids files\n",
    "plot_mimics(bids_files, layout, toFile=True, verbose=True)"
   ]
  },
  {
   "cell_type": "code",
   "execution_count": null,
   "metadata": {},
   "outputs": [],
   "source": [
    "# Plot Mean of each LabelValue as a function of Session (time). Each LabelValue corresponds to it's own line.\n",
    "# Update layout\n",
    "layout = bids.BIDSLayout(root=demo_dir+'/rawdata', derivatives=demo_dir+'/derivatives')\n",
    "\n",
    "# Select all standard coronal T1w images\n",
    "bids_files = layout.get(scope='raw', extension='.nii.gz', suffix='T1w', acquisition='std', reconstruction='cor')\n",
    "\n",
    "plot_signal_ROI(bids_files, 'T1', layout, verbose=True)"
   ]
  }
 ],
 "metadata": {
  "kernelspec": {
   "display_name": "base",
   "language": "python",
   "name": "python3"
  },
  "language_info": {
   "codemirror_mode": {
    "name": "ipython",
    "version": 3
   },
   "file_extension": ".py",
   "mimetype": "text/x-python",
   "name": "python",
   "nbconvert_exporter": "python",
   "pygments_lexer": "ipython3",
   "version": "3.10.9"
  },
  "orig_nbformat": 4
 },
 "nbformat": 4,
 "nbformat_minor": 2
}
